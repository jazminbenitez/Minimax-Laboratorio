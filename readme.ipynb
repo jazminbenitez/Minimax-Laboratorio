{
 "cells": [
  {
   "cell_type": "markdown",
   "id": "5432d1f8",
   "metadata": {},
   "source": [
    "# 🐱🐭 Laberinto del Gato y el Ratón con Minimax\n",
    "\n",
    "Este proyecto es un simulador sencillo donde un **gato** y un **ratón** se persiguen en un tablero bidimensional.  \n",
    "El **ratón** intenta sobrevivir el mayor tiempo posible, mientras que el **gato** intenta atraparlo.  \n",
    "\n",
    "---\n",
    "\n",
    "## 🚀 Cómo funciona\n",
    "- El tablero es de tamaño **5x5**.\n",
    "- Ambos jugadores se mueven en **4 direcciones** (arriba, abajo, izquierda, derecha).\n",
    "- El **ratón**:\n",
    "  - Durante los **primeros 3 turnos** se mueve de forma **aleatoria**.\n",
    "  - Después, usa el algoritmo **Minimax** para escapar del gato.\n",
    "- El **gato** usa **Minimax** desde el inicio para calcular la mejor forma de atrapar al ratón.\n",
    "- El juego dura **10 turnos**, o hasta que el gato atrape al ratón.\n",
    "\n",
    "---\n",
    "\n",
    "## 📂 Estructura del proyecto\n",
    "- Código principal en: `minimax_lab.py`\n",
    "- Tablero mostrado en consola con:\n",
    "  - `🐱` → gato\n",
    "  - `🐭` → ratón\n",
    "  - `·` → casilla vacía\n",
    "\n",
    "---\n",
    "\n",
    "## 🧠 Algoritmo Minimax\n",
    "- **Minimax** es un algoritmo de decisión usado en juegos:\n",
    "  - El **ratón (max)** busca maximizar la distancia con el gato.\n",
    "  - El **gato (min)** busca minimizar la distancia para atraparlo.\n",
    "- Se usa **distancia Manhattan** como función de evaluación.\n",
    "\n",
    "---\n",
    "\n",
    "## ▶️ Ejecución\n",
    "1. Guarda el archivo como `minimax_lab.py`.\n",
    "2. Abre una terminal en la carpeta del proyecto.\n",
    "3. Ejecuta:\n",
    "   ```bash\n",
    "   python minimax_lab.py\n"
   ]
  }
 ],
 "metadata": {
  "language_info": {
   "name": "python"
  }
 },
 "nbformat": 4,
 "nbformat_minor": 5
}
